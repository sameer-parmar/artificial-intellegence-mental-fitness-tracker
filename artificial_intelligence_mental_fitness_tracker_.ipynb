{
  "nbformat": 4,
  "nbformat_minor": 0,
  "metadata": {
    "colab": {
      "provenance": [],
      "cell_execution_strategy": "setup",
      "authorship_tag": "ABX9TyOzSnAQUWlGMVPrwpj7Kvgs",
      "include_colab_link": true
    },
    "kernelspec": {
      "name": "python3",
      "display_name": "Python 3"
    },
    "language_info": {
      "name": "python"
    }
  },
  "cells": [
    {
      "cell_type": "markdown",
      "metadata": {
        "id": "view-in-github",
        "colab_type": "text"
      },
      "source": [
        "<a href=\"https://colab.research.google.com/github/sameer-parmar/artificial-intellegence-mental-fitness-tracker/blob/main/artificial_intelligence_mental_fitness_tracker_.ipynb\" target=\"_parent\"><img src=\"https://colab.research.google.com/assets/colab-badge.svg\" alt=\"Open In Colab\"/></a>"
      ]
    },
    {
      "cell_type": "code",
      "source": [
        "import warnings\n",
        "warnings.filterwarnings('ignore')"
      ],
      "metadata": {
        "id": "rPMuLsA-xnyT"
      },
      "execution_count": null,
      "outputs": []
    },
    {
      "cell_type": "code",
      "source": [
        "import numpy as np\n",
        "import pandas as pd"
      ],
      "metadata": {
        "id": "9oyvZsunzlaz"
      },
      "execution_count": null,
      "outputs": []
    },
    {
      "cell_type": "code",
      "source": [
        "from google.colab import drive\n",
        "drive.mount('/content/drive')"
      ],
      "metadata": {
        "id": "8vuUX0F0zy4m"
      },
      "execution_count": null,
      "outputs": []
    },
    {
      "cell_type": "code",
      "source": [
        "import seaborn as sns\n",
        "import matplotlib.pyplot as plt\n",
        "import plotly.express as px"
      ],
      "metadata": {
        "id": "PYGkiGcuz6BX"
      },
      "execution_count": null,
      "outputs": []
    },
    {
      "cell_type": "code",
      "source": [
        "df2=pd.read_csv('/content/drive/MyDrive/Colab Notebooks/ibm/mental-and-substance-use-as-share-of-disease -AI.csv')\n",
        "df1=pd.read_csv('/content/drive/MyDrive/Colab Notebooks/ibm/prevalence-by-mental-and-substance-use-disorder _AI.csv')"
      ],
      "metadata": {
        "id": "tjnbF0Dw0TSm"
      },
      "execution_count": null,
      "outputs": []
    },
    {
      "cell_type": "code",
      "source": [
        "df1.head(5)"
      ],
      "metadata": {
        "id": "3Os-FUVe29p1"
      },
      "execution_count": null,
      "outputs": []
    },
    {
      "cell_type": "code",
      "source": [
        "df2.head()"
      ],
      "metadata": {
        "id": "-GYmDwDu3D2J"
      },
      "execution_count": null,
      "outputs": []
    },
    {
      "cell_type": "code",
      "source": [
        "data=pd.merge(df1,df2)\n",
        "#data.head()\n",
        "data.isnull().sum()"
      ],
      "metadata": {
        "id": "1wqu31PJ3HJO"
      },
      "execution_count": null,
      "outputs": []
    },
    {
      "cell_type": "code",
      "source": [
        "data.drop('Code',axis=1,inplace=True)\n",
        "data.isnull().sum()"
      ],
      "metadata": {
        "id": "Q7SzLrE34AWI"
      },
      "execution_count": null,
      "outputs": []
    },
    {
      "cell_type": "code",
      "source": [
        " data.size,data.shape"
      ],
      "metadata": {
        "id": "w3MVuoYL-xWE"
      },
      "execution_count": null,
      "outputs": []
    },
    {
      "cell_type": "code",
      "source": [
        "data.set_axis(['Country','Year','Schizophrenia','Bipolar_disorder','Eating_disorder','Anxiety','drug_usage','depression','alcohol','mental_fitness'],axis='columns',inplace=True)"
      ],
      "metadata": {
        "id": "DCjpnezo_Z2u"
      },
      "execution_count": null,
      "outputs": []
    },
    {
      "cell_type": "code",
      "source": [
        "data.head()"
      ],
      "metadata": {
        "id": "Q-6LmbIEAh4H"
      },
      "execution_count": null,
      "outputs": []
    },
    {
      "cell_type": "code",
      "source": [
        "plt.figure(figsize=(12,6))\n",
        "sns.heatmap(data.corr(),annot=True,cmap=\"Blues\")"
      ],
      "metadata": {
        "id": "2mj_sOIOBHjp"
      },
      "execution_count": null,
      "outputs": []
    },
    {
      "cell_type": "code",
      "source": [
        "\n",
        "sns.pairplot(data,corner=True)\n",
        "plt.show()"
      ],
      "metadata": {
        "id": "5efSc-zTBw9x"
      },
      "execution_count": null,
      "outputs": []
    },
    {
      "cell_type": "code",
      "source": [
        "mean=data['mental_fitness'].mean()\n",
        "mean"
      ],
      "metadata": {
        "id": "db0cOu_S4Hnu"
      },
      "execution_count": null,
      "outputs": []
    },
    {
      "cell_type": "code",
      "source": [
        "fig=px.pie(data,values='mental_fitness',names='Year')\n",
        "fig.show()\n"
      ],
      "metadata": {
        "id": "XYZ9zAtu4_sI"
      },
      "execution_count": null,
      "outputs": []
    },
    {
      "cell_type": "code",
      "source": [
        "fig =px.line(data,x=\"Year\",y=\"mental_fitness\",color='Country',markers=True,color_discrete_sequence=['red','blue'],template='plotly_dark')\n",
        "fig.show()"
      ],
      "metadata": {
        "id": "tg8GpYmY5Nf6"
      },
      "execution_count": null,
      "outputs": []
    },
    {
      "cell_type": "code",
      "source": [
        "df=data"
      ],
      "metadata": {
        "id": "pW_wtad6DqOY"
      },
      "execution_count": null,
      "outputs": []
    },
    {
      "cell_type": "code",
      "source": [
        "df.info()"
      ],
      "metadata": {
        "id": "PKflweP9FiHl"
      },
      "execution_count": null,
      "outputs": []
    },
    {
      "cell_type": "code",
      "source": [
        "from sklearn.preprocessing import LabelEncoder\n",
        "l=LabelEncoder()\n",
        "for i in df.columns:\n",
        "  if df[i].dtype=='object':\n",
        "    df[i]=l.fit_transform(df[i])"
      ],
      "metadata": {
        "id": "fCiKAoerFkwi"
      },
      "execution_count": null,
      "outputs": []
    },
    {
      "cell_type": "code",
      "source": [
        "df.shape"
      ],
      "metadata": {
        "id": "4fhoyuBAGXr1"
      },
      "execution_count": null,
      "outputs": []
    },
    {
      "cell_type": "code",
      "source": [
        "x=df.drop('mental_fitness',axis=1)\n",
        "y=df['mental_fitness']"
      ],
      "metadata": {
        "id": "jLwoXsINGdBN"
      },
      "execution_count": null,
      "outputs": []
    },
    {
      "cell_type": "markdown",
      "source": [
        "\n",
        "Spliting data into test and train"
      ],
      "metadata": {
        "id": "POar8ZpSlIVM"
      }
    },
    {
      "cell_type": "code",
      "source": [
        "from sklearn.model_selection import train_test_split\n",
        "xtrain, xtest ,ytrain ,ytest= train_test_split(x,y,test_size=.20,random_state=2)"
      ],
      "metadata": {
        "id": "kdLISrpEHP99"
      },
      "execution_count": null,
      "outputs": []
    },
    {
      "cell_type": "code",
      "source": [
        "print(\"xtrain:\",xtrain.shape)\n",
        "print(\"xtest:\",xtest.shape)\n",
        "print(\"\\nytrain:\",ytrain.shape)\n",
        "print(\"ytest:\",ytest.shape)\n"
      ],
      "metadata": {
        "id": "PPRwWzlxI2Ku"
      },
      "execution_count": null,
      "outputs": []
    },
    {
      "cell_type": "markdown",
      "source": [
        "LinearRegression"
      ],
      "metadata": {
        "id": "CgtK4LECk8Vl"
      }
    },
    {
      "cell_type": "code",
      "source": [
        "from sklearn.linear_model import LinearRegression\n",
        "from sklearn.metrics import mean_squared_error,r2_score\n",
        "lr=LinearRegression()\n",
        "lr.fit(xtrain,ytrain)\n",
        "ytrain_pred =lr.predict(xtrain)\n",
        "mse=mean_squared_error(ytrain,ytrain_pred)\n",
        "rmse=(np.sqrt(mean_squared_error(ytrain,ytrain_pred)))\n",
        "r2=r2_score(ytrain,ytrain_pred)\n",
        "print(\"The linear regression model performance for training set\")\n",
        "print(\"--------------------------------------------------------\")\n",
        "print('MSE is {}'.format(mse))\n",
        "print('RMSE is {}'.format(rmse))\n",
        "print('R2 score is{}'.format(r2))"
      ],
      "metadata": {
        "id": "hKj1lsN-J4sR"
      },
      "execution_count": null,
      "outputs": []
    },
    {
      "cell_type": "markdown",
      "source": [
        "RandomForestRegressor"
      ],
      "metadata": {
        "id": "dGgK5qCek1Nu"
      }
    },
    {
      "cell_type": "code",
      "source": [
        "from sklearn.ensemble import RandomForestRegressor\n",
        "rf=RandomForestRegressor()\n",
        "rf.fit(xtrain,ytrain)\n",
        "ytrain_pred=rf.predict(xtrain)\n",
        "mse=mean_squared_error(ytrain,ytrain_pred)\n",
        "rmse=(np.sqrt(mean_squared_error(ytrain,ytrain_pred)))\n",
        "r2=r2_score(ytrain,ytrain_pred)\n",
        "print(\"The Random Forest Regressor model performance for training set\")\n",
        "print(\"--------------------------------------------------------\")\n",
        "print('MSE is {}'.format(mse))\n",
        "print('RMSE is {}'.format(rmse))\n",
        "print('R2 score is{}'.format(r2))"
      ],
      "metadata": {
        "id": "v_SPa9LYM_oC"
      },
      "execution_count": null,
      "outputs": []
    },
    {
      "cell_type": "code",
      "source": [
        "ytest_pred =rf.predict(xtest)\n",
        "mse=mean_squared_error(ytest,ytest_pred)\n",
        "rmse=(np.sqrt(mean_squared_error(ytest,ytest_pred)))\n",
        "r2=r2_score(ytest,ytest_pred)\n",
        "print(\"the model performance for testing set\")\n",
        "print(\"--------------------------\")\n",
        "print('MSE is{}'.format(mse))\n",
        "print('RMSE is{}'.format(rmse))\n",
        "print('R2 score  is{}'.format(r2))"
      ],
      "metadata": {
        "id": "qH-xjLpTVEuL"
      },
      "execution_count": null,
      "outputs": []
    },
    {
      "cell_type": "markdown",
      "source": [
        "#### random forest performs well on both training and testing data"
      ],
      "metadata": {
        "id": "LzAB75P7kuSg"
      }
    },
    {
      "cell_type": "code",
      "source": [
        "np.random.seed(range(0,100))\n",
        "print(\"welcome to Mental fitness Tracker!\\nFill the detail to check your mental fitness!\")\n",
        "country=l.fit_transform([input(\"enter your country name:\")])\n",
        "year=int(input(\"enter the year:\"))\n",
        "schi=(float(input(\"enter your schizopherenia rate in %(don't enter 0 ):\")))*100\n",
        "bipo_dis=(float(input(\"enter your bipolar disorder rate in %(don't enter 0 ):\")))*100\n",
        "eat_dis=(float(input(\"enter your Eating disorder rate in %(don't enter 0 ):\")))*100\n",
        "anx=(float(input(\"enter your Anxiety rate in %(don't enter 0 ):\")))*100\n",
        "drug_use=(float(input(\"enter your drug usage rate in %(don't enter 0 ):\")))*100\n",
        "depr=(float(input(\"enter your depression rate in %(don't enter 0)\")))*100\n",
        "alch=(float(input(\"enter your alchol consuming rate per year in %(don't enter 0)\")))*100\n",
        "\n",
        "prediction = rf.predict([[country,year,schi,bipo_dis,eat_dis,anx,drug_use,depr,alch]])\n",
        "print(\"your Mental Fitness is {}% \".format(prediction))\n",
        "print(\"thankyou \")"
      ],
      "metadata": {
        "id": "jolVyShHiA_f"
      },
      "execution_count": null,
      "outputs": []
    },
    {
      "cell_type": "markdown",
      "source": [],
      "metadata": {
        "id": "16fLeKOmkyi1"
      }
    }
  ]
}